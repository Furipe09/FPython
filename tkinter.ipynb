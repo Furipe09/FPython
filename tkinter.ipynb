{
 "cells": [
  {
   "cell_type": "code",
   "execution_count": 11,
   "metadata": {},
   "outputs": [],
   "source": [
    "from tkinter import *\n",
    "  \n",
    "class Application:\n",
    "    def __init__(self, master=None):\n",
    "        self.fontePadrao = (\"Arial\", \"10\")\n",
    "        self.primeiroContainer = Frame(master)\n",
    "        self.primeiroContainer[\"pady\"] = 10\n",
    "        self.primeiroContainer.pack()\n",
    "  \n",
    "        self.segundoContainer = Frame(master)\n",
    "        self.segundoContainer[\"padx\"] = 20\n",
    "        self.segundoContainer.pack()\n",
    "  \n",
    "        self.terceiroContainer = Frame(master)\n",
    "        self.terceiroContainer[\"padx\"] = 20\n",
    "        self.terceiroContainer.pack()\n",
    "  \n",
    "        self.quartoContainer = Frame(master)\n",
    "        self.quartoContainer[\"pady\"] = 20\n",
    "        self.quartoContainer.pack()\n",
    "  \n",
    "        self.titulo = Label(self.primeiroContainer, text=\"Dados do usuário\")\n",
    "        self.titulo[\"font\"] = (\"Arial\", \"10\", \"bold\")\n",
    "        self.titulo.pack()\n",
    "  \n",
    "        self.nomeLabel = Label(self.segundoContainer,text=\"Nome\", font=self.fontePadrao)\n",
    "        self.nomeLabel.pack(side=LEFT)\n",
    "  \n",
    "        self.nome = Entry(self.segundoContainer)\n",
    "        self.nome[\"width\"] = 30\n",
    "        self.nome[\"font\"] = self.fontePadrao\n",
    "        self.nome.pack(side=LEFT)\n",
    "  \n",
    "        self.senhaLabel = Label(self.terceiroContainer, text=\"Senha\", font=self.fontePadrao)\n",
    "        self.senhaLabel.pack(side=LEFT)\n",
    "  \n",
    "        self.senha = Entry(self.terceiroContainer)\n",
    "        self.senha[\"width\"] = 30\n",
    "        self.senha[\"font\"] = self.fontePadrao\n",
    "        self.senha[\"show\"] = \"*\"\n",
    "        self.senha.pack(side=LEFT)\n",
    "  \n",
    "        self.autenticar = Button(self.quartoContainer)\n",
    "        self.autenticar[\"text\"] = \"Autenticar\"\n",
    "        self.autenticar[\"font\"] = (\"Calibri\", \"8\")\n",
    "        self.autenticar[\"width\"] = 12\n",
    "        self.autenticar[\"command\"] = self.verificaSenha\n",
    "        self.autenticar.pack()\n",
    "  \n",
    "        self.mensagem = Label(self.quartoContainer, text=\"\", font=self.fontePadrao)\n",
    "        self.mensagem.pack()\n",
    "  \n",
    "    #Método verificar senha\n",
    "    def verificaSenha(self):\n",
    "        usuario = self.nome.get()\n",
    "        senha = self.senha.get()\n",
    "        if usuario == \"felipe\" and senha == \"dev\":\n",
    "            self.mensagem[\"text\"] = \"Autenticado\"\n",
    "        else:\n",
    "            self.mensagem[\"text\"] = \"Erro na autenticação\"\n",
    "  \n",
    "  \n",
    "root = Tk()\n",
    "Application(root)\n",
    "root.mainloop()"
   ]
  },
  {
   "cell_type": "code",
   "execution_count": 10,
   "metadata": {},
   "outputs": [
    {
     "ename": "SyntaxError",
     "evalue": "invalid syntax (<ipython-input-10-1d8d1c40c2c9>, line 2)",
     "output_type": "error",
     "traceback": [
      "\u001b[1;36m  File \u001b[1;32m\"<ipython-input-10-1d8d1c40c2c9>\"\u001b[1;36m, line \u001b[1;32m2\u001b[0m\n\u001b[1;33m    Import sqlite3\u001b[0m\n\u001b[1;37m                 ^\u001b[0m\n\u001b[1;31mSyntaxError\u001b[0m\u001b[1;31m:\u001b[0m invalid syntax\n"
     ]
    }
   ],
   "source": [
    "#importando módulo do SQlite\n",
    "Import sqlite3"
   ]
  }
 ],
 "metadata": {
  "kernelspec": {
   "display_name": "Python 3",
   "language": "python",
   "name": "python3"
  },
  "language_info": {
   "codemirror_mode": {
    "name": "ipython",
    "version": 3
   },
   "file_extension": ".py",
   "mimetype": "text/x-python",
   "name": "python",
   "nbconvert_exporter": "python",
   "pygments_lexer": "ipython3",
   "version": "3.7.4"
  }
 },
 "nbformat": 4,
 "nbformat_minor": 2
}
