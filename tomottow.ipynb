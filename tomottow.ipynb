{
 "cells": [
  {
   "cell_type": "code",
   "execution_count": 3,
   "metadata": {},
   "outputs": [
    {
     "ename": "SyntaxError",
     "evalue": "invalid syntax (tomorrow.py, line 20)",
     "output_type": "error",
     "traceback": [
      "Traceback \u001b[1;36m(most recent call last)\u001b[0m:\n",
      "  File \u001b[0;32m\"c:\\program files\\python37\\lib\\site-packages\\IPython\\core\\interactiveshell.py\"\u001b[0m, line \u001b[0;32m3319\u001b[0m, in \u001b[0;35mrun_code\u001b[0m\n    exec(code_obj, self.user_global_ns, self.user_ns)\n",
      "  File \u001b[0;32m\"<ipython-input-3-a942c6bfd5ea>\"\u001b[0m, line \u001b[0;32m4\u001b[0m, in \u001b[0;35m<module>\u001b[0m\n    from tomorrow import threads\n",
      "\u001b[1;36m  File \u001b[1;32m\"c:\\program files\\python37\\lib\\site-packages\\tomorrow\\__init__.py\"\u001b[1;36m, line \u001b[1;32m1\u001b[1;36m, in \u001b[1;35m<module>\u001b[1;36m\u001b[0m\n\u001b[1;33m    from .tomorrow import threads\u001b[0m\n",
      "\u001b[1;36m  File \u001b[1;32m\"c:\\program files\\python37\\lib\\site-packages\\tomorrow\\tomorrow.py\"\u001b[1;36m, line \u001b[1;32m20\u001b[0m\n\u001b[1;33m    def async(n, base_type, timeout=None):\u001b[0m\n\u001b[1;37m            ^\u001b[0m\n\u001b[1;31mSyntaxError\u001b[0m\u001b[1;31m:\u001b[0m invalid syntax\n"
     ]
    }
   ],
   "source": [
    "#-*- coding:utf-8 -*-\n",
    "from selenium import webdriver\n",
    "import time\n",
    "from tomorrow import threads\n",
    "\n",
    "def startBrowser(name):\n",
    "    \"\"\"\n",
    "    browsers，\"firefox\"、\"chrome\"、\"ie\"、\"phantomjs\"\n",
    "    \"\"\"\n",
    "    try:\n",
    "        if name == \"firefox\" or name == \"Firefox\" or name == \"ff\":\n",
    "            print(\"start browser name :Firefox\")\n",
    "            driver = webdriver.Firefox()\n",
    "            return driver\n",
    "        elif name == \"chrome\" or name == \"Chrome\":\n",
    "            print(\"start browser name :Chrome\")\n",
    "            driver = webdriver.Chrome()\n",
    "            return driver\n",
    "        elif name == \"ie\" or name == \"Ie\":\n",
    "            print(\"start browser name :Ie\")\n",
    "            driver = webdriver.Ie()\n",
    "            return driver\n",
    "        elif name == \"phantomjs\" or name == \"Phantomjs\":\n",
    "            print(\"start browser name :phantomjs\")\n",
    "            driver = webdriver.PhantomJS()\n",
    "            return driver\n",
    "        else:\n",
    "            print(\"Not found this browser,You can use ‘firefox‘, ‘chrome‘, ‘ie‘ or ‘phantomjs‘\")\n",
    "    except Exception as msg:\n",
    "        print(\"message: %s\" % str(msg))\n",
    "\n",
    "@threads(5)\n",
    "def run_case(name):\n",
    "    driver = startBrowser(name)\n",
    "    driver.get(\"https://news.ycombinator.com/\")\n",
    "    time.sleep(3)\n",
    "    print(driver.title)\n",
    "    driver.close()\n",
    "    driver.quit()\n",
    "\n",
    "if __name__ == \"__main__\":\n",
    "    names = [\"chrome\", \"ff\", \"ie\"]\n",
    "    for i in names:\n",
    "        run_case(i)"
   ]
  }
 ],
 "metadata": {
  "kernelspec": {
   "display_name": "Python 3",
   "language": "python",
   "name": "python3"
  },
  "language_info": {
   "codemirror_mode": {
    "name": "ipython",
    "version": 3
   },
   "file_extension": ".py",
   "mimetype": "text/x-python",
   "name": "python",
   "nbconvert_exporter": "python",
   "pygments_lexer": "ipython3",
   "version": "3.7.4"
  }
 },
 "nbformat": 4,
 "nbformat_minor": 2
}
